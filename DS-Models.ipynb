{
 "cells": [
  {
   "cell_type": "markdown",
   "id": "71ecff33-b42f-409c-8732-e75b692a806a",
   "metadata": {
    "tags": []
   },
   "source": [
    "# Packages and Overall Info"
   ]
  },
  {
   "cell_type": "code",
   "execution_count": 44,
   "id": "b336303c-e252-4e06-8428-91e5b9c34151",
   "metadata": {},
   "outputs": [
    {
     "name": "stdout",
     "output_type": "stream",
     "text": [
      "2022-07-17 11:16:31,022 - kedro.extras.extensions.ipython - INFO - No path argument was provided. Using: /home/work/Documents/lighthouse/Desafio/kedro_ds/ds_desafio\n",
      "2022-07-17 11:16:31,323 - kedro.framework.session.store - INFO - `read()` not implemented for `BaseSessionStore`. Assuming empty store.\n",
      "2022-07-17 11:16:31,523 - kedro.framework.session.session - WARNING - Unable to git describe /home/work/Documents/lighthouse/Desafio/kedro_ds/ds_desafio\n",
      "2022-07-17 11:16:31,546 - kedro.extras.extensions.ipython - INFO - ** Kedro project ds_lighthouse\n",
      "2022-07-17 11:16:31,549 - kedro.extras.extensions.ipython - INFO - Defined global variable `context`, `session`, `catalog` and `pipelines`\n"
     ]
    }
   ],
   "source": [
    "%reload_kedro"
   ]
  },
  {
   "cell_type": "code",
   "execution_count": 85,
   "id": "7729373c-c169-4bb2-8274-c5cfcdce9023",
   "metadata": {},
   "outputs": [],
   "source": [
    "import matplotlib \n",
    "import matplotlib.pyplot as plt\n",
    "import seaborn as sns\n",
    "import numpy as np\n",
    "import pandas as pd\n",
    "from pandas_profiling import ProfileReport\n",
    "from sklearn.metrics import f1_score\n",
    "from sklearn.model_selection import train_test_split\n",
    "from sklearn.linear_model import LinearRegression\n",
    "from sklearn.tree import DecisionTreeRegressor, plot_tree, export_graphviz\n",
    "from sklearn.ensemble import RandomForestRegressor\n",
    "from sklearn.metrics import r2_score"
   ]
  },
  {
   "cell_type": "code",
   "execution_count": 52,
   "id": "829e5b33-23fe-4731-a5d4-9542ac0205b3",
   "metadata": {},
   "outputs": [
    {
     "name": "stdout",
     "output_type": "stream",
     "text": [
      "2022-07-17 11:33:08,323 - kedro.io.data_catalog - INFO - Loading data from `election_features` (CSVDataSet)...\n"
     ]
    }
   ],
   "source": [
    "ds_election_data = catalog.load(\"election_features\")"
   ]
  },
  {
   "cell_type": "code",
   "execution_count": 53,
   "id": "71873599-2d2e-45bb-8151-5191be072036",
   "metadata": {},
   "outputs": [
    {
     "name": "stdout",
     "output_type": "stream",
     "text": [
      "(                  column    dtype  missing_percent  count  n_unique\n",
      "0            TimeElapsed    int64              0.0   1080        54\n",
      "1          totalMandates    int64              0.0   1080        17\n",
      "2      availableMandates    int64              0.0   1080        17\n",
      "3            numParishes    int64              0.0   1080         1\n",
      "4    numParishesApproved    int64              0.0   1080        28\n",
      "5    nullVotesPercentage  float64              0.0   1080        23\n",
      "6       votersPercentage  float64              0.0   1080        26\n",
      "7       subscribedVoters    int64              0.0   1080        29\n",
      "8            totalVoters    int64              0.0   1080        29\n",
      "9   pre.votersPercentage  float64              0.0   1080        27\n",
      "10  pre.subscribedVoters    int64              0.0   1080        28\n",
      "11       pre.totalVoters    int64              0.0   1080        28\n",
      "12              Mandates    int64              0.0   1080        16\n",
      "13            Percentage  float64              0.0   1080       262\n",
      "14  validVotesPercentage  float64              0.0   1080       260\n",
      "15                 Votes    int64              0.0   1080       552\n",
      "16                 Hondt    int64              0.0   1080        15\n",
      "17         FinalMandates    int64              0.0   1080         7\n",
      "18               Party_A    int64              0.0   1080         2\n",
      "19            Party_B.E.    int64              0.0   1080         2\n",
      "20          Party_CDS-PP    int64              0.0   1080         2\n",
      "21              Party_CH    int64              0.0   1080         2\n",
      "22              Party_IL    int64              0.0   1080         2\n",
      "23               Party_L    int64              0.0   1080         2\n",
      "24             Party_MAS    int64              0.0   1080         2\n",
      "25             Party_MPT    int64              0.0   1080         2\n",
      "26              Party_NC    int64              0.0   1080         2\n",
      "27             Party_PAN    int64              0.0   1080         2\n",
      "28         Party_PCP-PEV    int64              0.0   1080         2\n",
      "29       Party_PCTP/MRPP    int64              0.0   1080         2\n",
      "30             Party_PDR    int64              0.0   1080         2\n",
      "31             Party_PNR    int64              0.0   1080         2\n",
      "32         Party_PPD/PSD    int64              0.0   1080         2\n",
      "33             Party_PPM    int64              0.0   1080         2\n",
      "34              Party_PS    int64              0.0   1080         2\n",
      "35             Party_PTP    int64              0.0   1080         2\n",
      "36            Party_PURP    int64              0.0   1080         2\n",
      "37          Party_R.I.R.    int64              0.0   1080         2,)\n"
     ]
    }
   ],
   "source": [
    "ds_election_data_infos = pd.DataFrame({'column': ds_election_data.columns,  \n",
    "                             'dtype': ds_election_data.dtypes,\n",
    "                             'missing_percent': ds_election_data.isna().sum()/ds_election_data.shape[0],\n",
    "                             'count': ds_election_data.count(),\n",
    "                             'n_unique': ds_election_data.nunique()}).reset_index().drop('index', axis=1).round(decimals = 3),  \n",
    "print(ds_election_data_infos)"
   ]
  },
  {
   "cell_type": "code",
   "execution_count": null,
   "id": "ac280421-a53b-41ab-b15d-bc8092540b5a",
   "metadata": {},
   "outputs": [
    {
     "data": {
      "application/vnd.jupyter.widget-view+json": {
       "model_id": "af99430d115449c1bd9f4fb35ab834a4",
       "version_major": 2,
       "version_minor": 0
      },
      "text/plain": [
       "Summarize dataset:   0%|          | 0/5 [00:00<?, ?it/s]"
      ]
     },
     "metadata": {},
     "output_type": "display_data"
    }
   ],
   "source": [
    "profile = ProfileReport(ds_election_data)\n",
    "profile"
   ]
  },
  {
   "cell_type": "markdown",
   "id": "0f1d91df-350c-444c-8da2-a50fee0aa8a1",
   "metadata": {
    "tags": []
   },
   "source": [
    "# Data Science"
   ]
  },
  {
   "cell_type": "raw",
   "id": "b5824a51-a833-42ef-97df-c87f9af08fc9",
   "metadata": {
    "jp-MarkdownHeadingCollapsed": true,
    "tags": []
   },
   "source": []
  },
  {
   "cell_type": "markdown",
   "id": "2dd2ea5a-61cc-441d-b41e-e379cdf55a49",
   "metadata": {},
   "source": [
    "## Preparing the Data"
   ]
  },
  {
   "cell_type": "markdown",
   "id": "f58f3ead-bf9a-4b85-aba1-da6786298845",
   "metadata": {},
   "source": [
    "### Separating the data into feature data and target data (X_all and y_all, respectively)"
   ]
  },
  {
   "cell_type": "code",
   "execution_count": 48,
   "id": "4dab4997-e84a-4625-a48a-511f90156da3",
   "metadata": {},
   "outputs": [],
   "source": [
    "X_all = df_train.drop('FinalMandates', axis=1)\n",
    "y_all = df_train['FinalMandates']"
   ]
  },
  {
   "cell_type": "markdown",
   "id": "dab584e2-a76f-4e3a-988d-030b160d8ce1",
   "metadata": {
    "tags": []
   },
   "source": [
    "### Training and Testing Data Split"
   ]
  },
  {
   "cell_type": "code",
   "execution_count": 99,
   "id": "1c625a12-e549-4094-a745-b7f952f79db1",
   "metadata": {},
   "outputs": [
    {
     "name": "stdout",
     "output_type": "stream",
     "text": [
      "Training set has 13600 samples.\n",
      "Testing set has 5829 samples.\n"
     ]
    }
   ],
   "source": [
    "X_train, X_test, y_train, y_test = train_test_split(X_all, y_all, test_size=0.3, random_state=999, stratify=y_all)\n",
    "\n",
    "print(\"Training set has {} samples.\".format(X_train.shape[0]))\n",
    "print(\"Testing set has {} samples.\".format(X_test.shape[0]))"
   ]
  },
  {
   "cell_type": "raw",
   "id": "211866ef-3e15-415b-9397-037c3f2c5faa",
   "metadata": {
    "jp-MarkdownHeadingCollapsed": true,
    "tags": []
   },
   "source": []
  },
  {
   "cell_type": "markdown",
   "id": "ff2ec361-ca7c-460a-83cf-1bba4e18f3b5",
   "metadata": {
    "tags": []
   },
   "source": [
    "## Models"
   ]
  },
  {
   "cell_type": "markdown",
   "id": "5533a74e-2474-4add-ac30-169f7a804171",
   "metadata": {
    "tags": []
   },
   "source": [
    "### Decision Tree "
   ]
  },
  {
   "cell_type": "code",
   "execution_count": 100,
   "id": "84bed27d-2030-41ac-93b6-0bbd75da1e6e",
   "metadata": {
    "jp-MarkdownHeadingCollapsed": true,
    "tags": []
   },
   "outputs": [],
   "source": [
    "tree = DecisionTreeRegressor(min_samples_split=0.05, random_state=999)\n",
    "tree.fit(X_train, y_train)\n",
    "dt_predicted = tree.predict(X_test)"
   ]
  },
  {
   "cell_type": "code",
   "execution_count": 101,
   "id": "648560cf-8b48-4e0d-bbe0-9e473add95af",
   "metadata": {
    "jp-MarkdownHeadingCollapsed": true,
    "tags": []
   },
   "outputs": [
    {
     "name": "stdout",
     "output_type": "stream",
     "text": [
      "0.8334521745820909\n"
     ]
    }
   ],
   "source": [
    "print(r2_score(y_test,dt_predicted))"
   ]
  },
  {
   "cell_type": "markdown",
   "id": "bd165024-dfcd-4c0b-9b5c-0319ba7bc3c1",
   "metadata": {
    "tags": []
   },
   "source": [
    "### Random Forest "
   ]
  },
  {
   "cell_type": "code",
   "execution_count": 102,
   "id": "6675366c-6369-48e6-9a0e-ed82454aa6ee",
   "metadata": {
    "jp-MarkdownHeadingCollapsed": true,
    "tags": []
   },
   "outputs": [],
   "source": [
    "random_forest = RandomForestRegressor(random_state=999)\n",
    "random_forest.fit(X_train, y_train)\n",
    "rf_predicted = random_forest.predict(X_test)"
   ]
  },
  {
   "cell_type": "code",
   "execution_count": 103,
   "id": "f44c290d-8d31-45a8-bdbb-65b5654737a8",
   "metadata": {
    "jp-MarkdownHeadingCollapsed": true,
    "tags": []
   },
   "outputs": [
    {
     "name": "stdout",
     "output_type": "stream",
     "text": [
      "0.9999420273581918\n"
     ]
    }
   ],
   "source": [
    "print(r2_score(y_test,rf_predicted))"
   ]
  },
  {
   "cell_type": "markdown",
   "id": "b67da7b6-bbd3-4e55-b98b-4b336c07487e",
   "metadata": {
    "tags": []
   },
   "source": [
    "### Linear Regression"
   ]
  },
  {
   "cell_type": "code",
   "execution_count": 104,
   "id": "d03eb832-dc67-4521-8f12-745891ada96e",
   "metadata": {
    "jp-MarkdownHeadingCollapsed": true,
    "tags": []
   },
   "outputs": [],
   "source": [
    "linear_regression = LinearRegression()\n",
    "linear_regression.fit(X_train, y_train)\n",
    "lr_predicted = linear_regression.predict(X_test)"
   ]
  },
  {
   "cell_type": "code",
   "execution_count": 105,
   "id": "68bc101b-6495-459a-87d2-d36d11689313",
   "metadata": {
    "jp-MarkdownHeadingCollapsed": true,
    "tags": []
   },
   "outputs": [
    {
     "name": "stdout",
     "output_type": "stream",
     "text": [
      "0.993439893383657\n"
     ]
    }
   ],
   "source": [
    "print(r2_score(y_test,lr_predicted))"
   ]
  }
 ],
 "metadata": {
  "kernelspec": {
   "display_name": "Kedro (ds_lighthouse)",
   "language": "python",
   "name": "kedro_ds_lighthouse"
  },
  "language_info": {
   "codemirror_mode": {
    "name": "ipython",
    "version": 3
   },
   "file_extension": ".py",
   "mimetype": "text/x-python",
   "name": "python",
   "nbconvert_exporter": "python",
   "pygments_lexer": "ipython3",
   "version": "3.8.10"
  }
 },
 "nbformat": 4,
 "nbformat_minor": 5
}
